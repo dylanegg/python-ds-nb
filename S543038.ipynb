{
 "cells": [
  {
   "cell_type": "markdown",
   "id": "4fc8895f-100d-4c01-9027-4b927eae1657",
   "metadata": {},
   "source": [
    "Dylan Eggemeyer"
   ]
  },
  {
   "cell_type": "code",
   "execution_count": 28,
   "id": "5fc2c875-0e62-4040-8055-3f19e3627533",
   "metadata": {},
   "outputs": [
    {
     "name": "stdout",
     "output_type": "stream",
     "text": [
      "*      *\n",
      "**    **\n",
      "***  ***\n",
      "********\n"
     ]
    }
   ],
   "source": [
    "mystring = '*   '\n",
    "for i in range(0,4):\n",
    "    print(mystring.replace(' ','*',i)+mystring.replace(' ','*',i)[::-1])"
   ]
  }
 ],
 "metadata": {
  "kernelspec": {
   "display_name": "Python 3",
   "language": "python",
   "name": "python3"
  },
  "language_info": {
   "codemirror_mode": {
    "name": "ipython",
    "version": 3
   },
   "file_extension": ".py",
   "mimetype": "text/x-python",
   "name": "python",
   "nbconvert_exporter": "python",
   "pygments_lexer": "ipython3",
   "version": "3.8.11"
  }
 },
 "nbformat": 4,
 "nbformat_minor": 5
}
